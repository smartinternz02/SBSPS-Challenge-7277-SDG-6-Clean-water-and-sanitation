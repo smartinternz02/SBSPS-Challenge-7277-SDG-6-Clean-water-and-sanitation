{
 "cells": [
  {
   "cell_type": "markdown",
   "metadata": {},
   "source": [
    "# Clean Water and Sanitation"
   ]
  },
  {
   "cell_type": "code",
   "execution_count": 1,
   "metadata": {
    "id": "4jpC61XS5hVQ"
   },
   "outputs": [],
   "source": [
    "import pandas as pd"
   ]
  },
  {
   "cell_type": "code",
   "execution_count": 2,
   "metadata": {
    "id": "TBzz8_mJVoXV"
   },
   "outputs": [],
   "source": [
    "import warnings\n",
    "warnings.simplefilter(action='ignore', category=FutureWarning)\n"
   ]
  },
  {
   "cell_type": "code",
   "execution_count": 3,
   "metadata": {
    "id": "wUNZBxcM-N4h"
   },
   "outputs": [],
   "source": [
    "#importing the data\n",
    "df=pd.read_csv('Sanitation.csv')"
   ]
  },
  {
   "cell_type": "code",
   "execution_count": 4,
   "metadata": {
    "colab": {
     "base_uri": "https://localhost:8080/",
     "height": 530
    },
    "id": "E85YL5Iz-TyS",
    "outputId": "ed2775ae-9b8e-41b6-dbb9-b5acb3297a03"
   },
   "outputs": [
    {
     "data": {
      "text/html": [
       "<div>\n",
       "<style scoped>\n",
       "    .dataframe tbody tr th:only-of-type {\n",
       "        vertical-align: middle;\n",
       "    }\n",
       "\n",
       "    .dataframe tbody tr th {\n",
       "        vertical-align: top;\n",
       "    }\n",
       "\n",
       "    .dataframe thead th {\n",
       "        text-align: right;\n",
       "    }\n",
       "</style>\n",
       "<table border=\"1\" class=\"dataframe\">\n",
       "  <thead>\n",
       "    <tr style=\"text-align: right;\">\n",
       "      <th></th>\n",
       "      <th>ULB Name</th>\n",
       "      <th>Public Toilets</th>\n",
       "      <th>Community Toilets</th>\n",
       "      <th>She Toilets</th>\n",
       "      <th>ODF Declared Wards</th>\n",
       "      <th>ODF Non Declared Wards</th>\n",
       "      <th>Compost Yard Location &amp; Extent (Acrs)</th>\n",
       "      <th>Dry Resourse Collection Center (Yes/No)</th>\n",
       "      <th>% of Door to Door Collection</th>\n",
       "      <th>Tractors</th>\n",
       "      <th>Autos</th>\n",
       "      <th>Tricycles</th>\n",
       "      <th>Pushcarts</th>\n",
       "      <th>Regular Workers</th>\n",
       "      <th>Out Sourced Workers</th>\n",
       "      <th>Government Hospitals</th>\n",
       "      <th>Private Hospitals</th>\n",
       "      <th>Urban Health Centres</th>\n",
       "      <th>Garbage generation/day (Mts)</th>\n",
       "      <th>Garbage lifted/day (Mts)</th>\n",
       "    </tr>\n",
       "  </thead>\n",
       "  <tbody>\n",
       "    <tr>\n",
       "      <th>0</th>\n",
       "      <td>Adilabad</td>\n",
       "      <td>8.0</td>\n",
       "      <td>NaN</td>\n",
       "      <td>NaN</td>\n",
       "      <td>36</td>\n",
       "      <td>0</td>\n",
       "      <td>36.20</td>\n",
       "      <td>YES</td>\n",
       "      <td>100.0</td>\n",
       "      <td>12</td>\n",
       "      <td>18</td>\n",
       "      <td>5</td>\n",
       "      <td>30</td>\n",
       "      <td>52</td>\n",
       "      <td>200</td>\n",
       "      <td>1</td>\n",
       "      <td>13</td>\n",
       "      <td>4</td>\n",
       "      <td>66.0</td>\n",
       "      <td>64.0</td>\n",
       "    </tr>\n",
       "    <tr>\n",
       "      <th>1</th>\n",
       "      <td>Andol-Jogipet</td>\n",
       "      <td>NaN</td>\n",
       "      <td>NaN</td>\n",
       "      <td>NaN</td>\n",
       "      <td>10</td>\n",
       "      <td>10</td>\n",
       "      <td>3.27</td>\n",
       "      <td>YES</td>\n",
       "      <td>89.0</td>\n",
       "      <td>1</td>\n",
       "      <td>0</td>\n",
       "      <td>12</td>\n",
       "      <td>3</td>\n",
       "      <td>11</td>\n",
       "      <td>37</td>\n",
       "      <td>1</td>\n",
       "      <td>5</td>\n",
       "      <td>0</td>\n",
       "      <td>4.7</td>\n",
       "      <td>3.9</td>\n",
       "    </tr>\n",
       "    <tr>\n",
       "      <th>2</th>\n",
       "      <td>Armoor</td>\n",
       "      <td>4.0</td>\n",
       "      <td>NaN</td>\n",
       "      <td>NaN</td>\n",
       "      <td>23</td>\n",
       "      <td>0</td>\n",
       "      <td>11.09</td>\n",
       "      <td>YES</td>\n",
       "      <td>100.0</td>\n",
       "      <td>5</td>\n",
       "      <td>10</td>\n",
       "      <td>0</td>\n",
       "      <td>0</td>\n",
       "      <td>17</td>\n",
       "      <td>67</td>\n",
       "      <td>1</td>\n",
       "      <td>25</td>\n",
       "      <td>0</td>\n",
       "      <td>32.0</td>\n",
       "      <td>30.0</td>\n",
       "    </tr>\n",
       "    <tr>\n",
       "      <th>3</th>\n",
       "      <td>Atchampet</td>\n",
       "      <td>NaN</td>\n",
       "      <td>NaN</td>\n",
       "      <td>NaN</td>\n",
       "      <td>20</td>\n",
       "      <td>0</td>\n",
       "      <td>0.00</td>\n",
       "      <td>NO</td>\n",
       "      <td>85.0</td>\n",
       "      <td>9</td>\n",
       "      <td>0</td>\n",
       "      <td>5</td>\n",
       "      <td>0</td>\n",
       "      <td>2</td>\n",
       "      <td>74</td>\n",
       "      <td>2</td>\n",
       "      <td>8</td>\n",
       "      <td>0</td>\n",
       "      <td>14.0</td>\n",
       "      <td>14.0</td>\n",
       "    </tr>\n",
       "    <tr>\n",
       "      <th>4</th>\n",
       "      <td>Badangpet</td>\n",
       "      <td>NaN</td>\n",
       "      <td>NaN</td>\n",
       "      <td>NaN</td>\n",
       "      <td>20</td>\n",
       "      <td>0</td>\n",
       "      <td>0.00</td>\n",
       "      <td>YES</td>\n",
       "      <td>100.0</td>\n",
       "      <td>4</td>\n",
       "      <td>30</td>\n",
       "      <td>15</td>\n",
       "      <td>0</td>\n",
       "      <td>0</td>\n",
       "      <td>168</td>\n",
       "      <td>1</td>\n",
       "      <td>3</td>\n",
       "      <td>0</td>\n",
       "      <td>28.0</td>\n",
       "      <td>28.0</td>\n",
       "    </tr>\n",
       "    <tr>\n",
       "      <th>...</th>\n",
       "      <td>...</td>\n",
       "      <td>...</td>\n",
       "      <td>...</td>\n",
       "      <td>...</td>\n",
       "      <td>...</td>\n",
       "      <td>...</td>\n",
       "      <td>...</td>\n",
       "      <td>...</td>\n",
       "      <td>...</td>\n",
       "      <td>...</td>\n",
       "      <td>...</td>\n",
       "      <td>...</td>\n",
       "      <td>...</td>\n",
       "      <td>...</td>\n",
       "      <td>...</td>\n",
       "      <td>...</td>\n",
       "      <td>...</td>\n",
       "      <td>...</td>\n",
       "      <td>...</td>\n",
       "      <td>...</td>\n",
       "    </tr>\n",
       "    <tr>\n",
       "      <th>67</th>\n",
       "      <td>Vikarabad</td>\n",
       "      <td>3.0</td>\n",
       "      <td>NaN</td>\n",
       "      <td>NaN</td>\n",
       "      <td>28</td>\n",
       "      <td>0</td>\n",
       "      <td>10.01</td>\n",
       "      <td>YES</td>\n",
       "      <td>95.0</td>\n",
       "      <td>3</td>\n",
       "      <td>11</td>\n",
       "      <td>0</td>\n",
       "      <td>0</td>\n",
       "      <td>23</td>\n",
       "      <td>105</td>\n",
       "      <td>3</td>\n",
       "      <td>17</td>\n",
       "      <td>0</td>\n",
       "      <td>25.0</td>\n",
       "      <td>25.0</td>\n",
       "    </tr>\n",
       "    <tr>\n",
       "      <th>68</th>\n",
       "      <td>Wanaparthy</td>\n",
       "      <td>NaN</td>\n",
       "      <td>NaN</td>\n",
       "      <td>NaN</td>\n",
       "      <td>13</td>\n",
       "      <td>13</td>\n",
       "      <td>0.00</td>\n",
       "      <td>NO</td>\n",
       "      <td>84.0</td>\n",
       "      <td>11</td>\n",
       "      <td>0</td>\n",
       "      <td>0</td>\n",
       "      <td>2</td>\n",
       "      <td>17</td>\n",
       "      <td>110</td>\n",
       "      <td>1</td>\n",
       "      <td>8</td>\n",
       "      <td>2</td>\n",
       "      <td>32.0</td>\n",
       "      <td>32.0</td>\n",
       "    </tr>\n",
       "    <tr>\n",
       "      <th>69</th>\n",
       "      <td>Warangal</td>\n",
       "      <td>1.0</td>\n",
       "      <td>NaN</td>\n",
       "      <td>NaN</td>\n",
       "      <td>0</td>\n",
       "      <td>58</td>\n",
       "      <td>0.00</td>\n",
       "      <td>NaN</td>\n",
       "      <td>0.0</td>\n",
       "      <td>0</td>\n",
       "      <td>0</td>\n",
       "      <td>0</td>\n",
       "      <td>0</td>\n",
       "      <td>0</td>\n",
       "      <td>0</td>\n",
       "      <td>0</td>\n",
       "      <td>0</td>\n",
       "      <td>0</td>\n",
       "      <td>0.0</td>\n",
       "      <td>0.0</td>\n",
       "    </tr>\n",
       "    <tr>\n",
       "      <th>70</th>\n",
       "      <td>Yellandu</td>\n",
       "      <td>NaN</td>\n",
       "      <td>NaN</td>\n",
       "      <td>NaN</td>\n",
       "      <td>22</td>\n",
       "      <td>2</td>\n",
       "      <td>5.00</td>\n",
       "      <td>NO</td>\n",
       "      <td>89.0</td>\n",
       "      <td>4</td>\n",
       "      <td>2</td>\n",
       "      <td>8</td>\n",
       "      <td>24</td>\n",
       "      <td>34</td>\n",
       "      <td>56</td>\n",
       "      <td>1</td>\n",
       "      <td>5</td>\n",
       "      <td>0</td>\n",
       "      <td>32.0</td>\n",
       "      <td>30.0</td>\n",
       "    </tr>\n",
       "    <tr>\n",
       "      <th>71</th>\n",
       "      <td>Zaheerabad</td>\n",
       "      <td>NaN</td>\n",
       "      <td>NaN</td>\n",
       "      <td>NaN</td>\n",
       "      <td>24</td>\n",
       "      <td>0</td>\n",
       "      <td>5.00</td>\n",
       "      <td>NO</td>\n",
       "      <td>95.0</td>\n",
       "      <td>3</td>\n",
       "      <td>4</td>\n",
       "      <td>15</td>\n",
       "      <td>0</td>\n",
       "      <td>34</td>\n",
       "      <td>99</td>\n",
       "      <td>1</td>\n",
       "      <td>13</td>\n",
       "      <td>0</td>\n",
       "      <td>32.0</td>\n",
       "      <td>32.0</td>\n",
       "    </tr>\n",
       "  </tbody>\n",
       "</table>\n",
       "<p>72 rows × 20 columns</p>\n",
       "</div>"
      ],
      "text/plain": [
       "         ULB Name  Public Toilets  Community Toilets  She Toilets  \\\n",
       "0        Adilabad             8.0                NaN          NaN   \n",
       "1   Andol-Jogipet             NaN                NaN          NaN   \n",
       "2          Armoor             4.0                NaN          NaN   \n",
       "3       Atchampet             NaN                NaN          NaN   \n",
       "4       Badangpet             NaN                NaN          NaN   \n",
       "..            ...             ...                ...          ...   \n",
       "67      Vikarabad             3.0                NaN          NaN   \n",
       "68     Wanaparthy             NaN                NaN          NaN   \n",
       "69       Warangal             1.0                NaN          NaN   \n",
       "70       Yellandu             NaN                NaN          NaN   \n",
       "71     Zaheerabad             NaN                NaN          NaN   \n",
       "\n",
       "    ODF Declared Wards  ODF Non Declared Wards  \\\n",
       "0                   36                       0   \n",
       "1                   10                      10   \n",
       "2                   23                       0   \n",
       "3                   20                       0   \n",
       "4                   20                       0   \n",
       "..                 ...                     ...   \n",
       "67                  28                       0   \n",
       "68                  13                      13   \n",
       "69                   0                      58   \n",
       "70                  22                       2   \n",
       "71                  24                       0   \n",
       "\n",
       "    Compost Yard Location & Extent (Acrs)  \\\n",
       "0                                   36.20   \n",
       "1                                    3.27   \n",
       "2                                   11.09   \n",
       "3                                    0.00   \n",
       "4                                    0.00   \n",
       "..                                    ...   \n",
       "67                                  10.01   \n",
       "68                                   0.00   \n",
       "69                                   0.00   \n",
       "70                                   5.00   \n",
       "71                                   5.00   \n",
       "\n",
       "   Dry Resourse Collection Center (Yes/No)  % of Door to Door Collection  \\\n",
       "0                                      YES                         100.0   \n",
       "1                                      YES                          89.0   \n",
       "2                                      YES                         100.0   \n",
       "3                                       NO                          85.0   \n",
       "4                                      YES                         100.0   \n",
       "..                                     ...                           ...   \n",
       "67                                     YES                          95.0   \n",
       "68                                      NO                          84.0   \n",
       "69                                     NaN                           0.0   \n",
       "70                                      NO                          89.0   \n",
       "71                                      NO                          95.0   \n",
       "\n",
       "    Tractors  Autos  Tricycles  Pushcarts  Regular Workers  \\\n",
       "0         12     18          5         30               52   \n",
       "1          1      0         12          3               11   \n",
       "2          5     10          0          0               17   \n",
       "3          9      0          5          0                2   \n",
       "4          4     30         15          0                0   \n",
       "..       ...    ...        ...        ...              ...   \n",
       "67         3     11          0          0               23   \n",
       "68        11      0          0          2               17   \n",
       "69         0      0          0          0                0   \n",
       "70         4      2          8         24               34   \n",
       "71         3      4         15          0               34   \n",
       "\n",
       "    Out Sourced Workers  Government Hospitals  Private Hospitals  \\\n",
       "0                   200                     1                 13   \n",
       "1                    37                     1                  5   \n",
       "2                    67                     1                 25   \n",
       "3                    74                     2                  8   \n",
       "4                   168                     1                  3   \n",
       "..                  ...                   ...                ...   \n",
       "67                  105                     3                 17   \n",
       "68                  110                     1                  8   \n",
       "69                    0                     0                  0   \n",
       "70                   56                     1                  5   \n",
       "71                   99                     1                 13   \n",
       "\n",
       "    Urban Health Centres  Garbage generation/day (Mts)  \\\n",
       "0                      4                          66.0   \n",
       "1                      0                           4.7   \n",
       "2                      0                          32.0   \n",
       "3                      0                          14.0   \n",
       "4                      0                          28.0   \n",
       "..                   ...                           ...   \n",
       "67                     0                          25.0   \n",
       "68                     2                          32.0   \n",
       "69                     0                           0.0   \n",
       "70                     0                          32.0   \n",
       "71                     0                          32.0   \n",
       "\n",
       "    Garbage lifted/day (Mts)  \n",
       "0                       64.0  \n",
       "1                        3.9  \n",
       "2                       30.0  \n",
       "3                       14.0  \n",
       "4                       28.0  \n",
       "..                       ...  \n",
       "67                      25.0  \n",
       "68                      32.0  \n",
       "69                       0.0  \n",
       "70                      30.0  \n",
       "71                      32.0  \n",
       "\n",
       "[72 rows x 20 columns]"
      ]
     },
     "execution_count": 4,
     "metadata": {},
     "output_type": "execute_result"
    }
   ],
   "source": [
    "df"
   ]
  },
  {
   "cell_type": "code",
   "execution_count": 5,
   "metadata": {
    "colab": {
     "base_uri": "https://localhost:8080/"
    },
    "id": "zt4F35ki-VYT",
    "outputId": "3f23c08f-2a3b-43a8-9424-02bf281f9b55"
   },
   "outputs": [
    {
     "name": "stdout",
     "output_type": "stream",
     "text": [
      "<class 'pandas.core.frame.DataFrame'>\n",
      "RangeIndex: 72 entries, 0 to 71\n",
      "Data columns (total 20 columns):\n",
      " #   Column                                   Non-Null Count  Dtype  \n",
      "---  ------                                   --------------  -----  \n",
      " 0   ULB Name                                 72 non-null     object \n",
      " 1   Public Toilets                           31 non-null     float64\n",
      " 2   Community Toilets                        13 non-null     float64\n",
      " 3   She Toilets                              10 non-null     float64\n",
      " 4   ODF Declared Wards                       72 non-null     int64  \n",
      " 5   ODF Non Declared Wards                   72 non-null     int64  \n",
      " 6   Compost Yard Location & Extent (Acrs)    72 non-null     float64\n",
      " 7   Dry Resourse Collection Center (Yes/No)  60 non-null     object \n",
      " 8   % of Door to Door Collection             72 non-null     float64\n",
      " 9   Tractors                                 72 non-null     int64  \n",
      " 10  Autos                                    72 non-null     int64  \n",
      " 11  Tricycles                                72 non-null     int64  \n",
      " 12  Pushcarts                                72 non-null     int64  \n",
      " 13  Regular Workers                          72 non-null     int64  \n",
      " 14  Out Sourced Workers                      72 non-null     int64  \n",
      " 15  Government Hospitals                     72 non-null     int64  \n",
      " 16  Private Hospitals                        72 non-null     int64  \n",
      " 17  Urban Health Centres                     72 non-null     int64  \n",
      " 18  Garbage generation/day (Mts)             72 non-null     float64\n",
      " 19  Garbage lifted/day (Mts)                 72 non-null     float64\n",
      "dtypes: float64(7), int64(11), object(2)\n",
      "memory usage: 11.4+ KB\n"
     ]
    }
   ],
   "source": [
    "df.info()"
   ]
  },
  {
   "cell_type": "code",
   "execution_count": 6,
   "metadata": {
    "colab": {
     "base_uri": "https://localhost:8080/"
    },
    "id": "mXxE9m5cHNI6",
    "outputId": "49d93538-c3a1-4a40-f1ee-06f23d4fdf45"
   },
   "outputs": [
    {
     "data": {
      "text/plain": [
       "(72, 20)"
      ]
     },
     "execution_count": 6,
     "metadata": {},
     "output_type": "execute_result"
    }
   ],
   "source": [
    "df.shape\n"
   ]
  },
  {
   "cell_type": "code",
   "execution_count": 7,
   "metadata": {
    "colab": {
     "base_uri": "https://localhost:8080/"
    },
    "id": "GsHYb2J1HRYR",
    "outputId": "568c7d7d-3052-4516-9af9-7751ac7b58f5"
   },
   "outputs": [
    {
     "data": {
      "text/plain": [
       "Index(['ULB Name', 'Public Toilets', 'Community Toilets', 'She Toilets',\n",
       "       'ODF Declared Wards', 'ODF Non Declared Wards',\n",
       "       'Compost Yard Location & Extent (Acrs)',\n",
       "       'Dry Resourse Collection Center (Yes/No)',\n",
       "       '% of Door to Door Collection', 'Tractors', 'Autos', 'Tricycles',\n",
       "       'Pushcarts', 'Regular Workers', 'Out Sourced Workers',\n",
       "       'Government Hospitals', 'Private Hospitals', 'Urban Health Centres',\n",
       "       'Garbage generation/day (Mts)', 'Garbage lifted/day (Mts)'],\n",
       "      dtype='object')"
      ]
     },
     "execution_count": 7,
     "metadata": {},
     "output_type": "execute_result"
    }
   ],
   "source": [
    "df.columns"
   ]
  },
  {
   "cell_type": "code",
   "execution_count": 8,
   "metadata": {
    "colab": {
     "base_uri": "https://localhost:8080/",
     "height": 390
    },
    "id": "Z9Zt39EB-d-_",
    "outputId": "c08cb936-3a82-4fb2-d16c-91054b0bd1e6"
   },
   "outputs": [
    {
     "data": {
      "text/html": [
       "<div>\n",
       "<style scoped>\n",
       "    .dataframe tbody tr th:only-of-type {\n",
       "        vertical-align: middle;\n",
       "    }\n",
       "\n",
       "    .dataframe tbody tr th {\n",
       "        vertical-align: top;\n",
       "    }\n",
       "\n",
       "    .dataframe thead th {\n",
       "        text-align: right;\n",
       "    }\n",
       "</style>\n",
       "<table border=\"1\" class=\"dataframe\">\n",
       "  <thead>\n",
       "    <tr style=\"text-align: right;\">\n",
       "      <th></th>\n",
       "      <th>Public Toilets</th>\n",
       "      <th>Community Toilets</th>\n",
       "      <th>She Toilets</th>\n",
       "      <th>ODF Declared Wards</th>\n",
       "      <th>ODF Non Declared Wards</th>\n",
       "      <th>Compost Yard Location &amp; Extent (Acrs)</th>\n",
       "      <th>% of Door to Door Collection</th>\n",
       "      <th>Tractors</th>\n",
       "      <th>Autos</th>\n",
       "      <th>Tricycles</th>\n",
       "      <th>Pushcarts</th>\n",
       "      <th>Regular Workers</th>\n",
       "      <th>Out Sourced Workers</th>\n",
       "      <th>Government Hospitals</th>\n",
       "      <th>Private Hospitals</th>\n",
       "      <th>Urban Health Centres</th>\n",
       "      <th>Garbage generation/day (Mts)</th>\n",
       "      <th>Garbage lifted/day (Mts)</th>\n",
       "    </tr>\n",
       "  </thead>\n",
       "  <tbody>\n",
       "    <tr>\n",
       "      <th>count</th>\n",
       "      <td>31.000000</td>\n",
       "      <td>13.000000</td>\n",
       "      <td>10.000000</td>\n",
       "      <td>72.000000</td>\n",
       "      <td>72.000000</td>\n",
       "      <td>72.000000</td>\n",
       "      <td>72.000000</td>\n",
       "      <td>72.000000</td>\n",
       "      <td>72.000000</td>\n",
       "      <td>72.000000</td>\n",
       "      <td>72.000000</td>\n",
       "      <td>72.000000</td>\n",
       "      <td>72.000000</td>\n",
       "      <td>72.000000</td>\n",
       "      <td>72.000000</td>\n",
       "      <td>72.000000</td>\n",
       "      <td>72.000000</td>\n",
       "      <td>72.000000</td>\n",
       "    </tr>\n",
       "    <tr>\n",
       "      <th>mean</th>\n",
       "      <td>3.419355</td>\n",
       "      <td>1.538462</td>\n",
       "      <td>1.300000</td>\n",
       "      <td>23.291667</td>\n",
       "      <td>3.958333</td>\n",
       "      <td>5.993194</td>\n",
       "      <td>75.988611</td>\n",
       "      <td>8.625000</td>\n",
       "      <td>5.402778</td>\n",
       "      <td>8.694444</td>\n",
       "      <td>3.305556</td>\n",
       "      <td>24.611111</td>\n",
       "      <td>116.500000</td>\n",
       "      <td>1.000000</td>\n",
       "      <td>17.930556</td>\n",
       "      <td>0.888889</td>\n",
       "      <td>30.387222</td>\n",
       "      <td>26.516111</td>\n",
       "    </tr>\n",
       "    <tr>\n",
       "      <th>std</th>\n",
       "      <td>3.253451</td>\n",
       "      <td>1.853617</td>\n",
       "      <td>0.483046</td>\n",
       "      <td>10.864644</td>\n",
       "      <td>10.161287</td>\n",
       "      <td>10.094007</td>\n",
       "      <td>32.893282</td>\n",
       "      <td>19.841227</td>\n",
       "      <td>8.568958</td>\n",
       "      <td>21.555457</td>\n",
       "      <td>7.062376</td>\n",
       "      <td>36.254016</td>\n",
       "      <td>133.922513</td>\n",
       "      <td>1.007018</td>\n",
       "      <td>25.077528</td>\n",
       "      <td>1.429622</td>\n",
       "      <td>39.038642</td>\n",
       "      <td>32.056076</td>\n",
       "    </tr>\n",
       "    <tr>\n",
       "      <th>min</th>\n",
       "      <td>0.000000</td>\n",
       "      <td>0.000000</td>\n",
       "      <td>1.000000</td>\n",
       "      <td>0.000000</td>\n",
       "      <td>0.000000</td>\n",
       "      <td>0.000000</td>\n",
       "      <td>0.000000</td>\n",
       "      <td>0.000000</td>\n",
       "      <td>0.000000</td>\n",
       "      <td>0.000000</td>\n",
       "      <td>0.000000</td>\n",
       "      <td>0.000000</td>\n",
       "      <td>0.000000</td>\n",
       "      <td>0.000000</td>\n",
       "      <td>0.000000</td>\n",
       "      <td>0.000000</td>\n",
       "      <td>0.000000</td>\n",
       "      <td>0.000000</td>\n",
       "    </tr>\n",
       "    <tr>\n",
       "      <th>25%</th>\n",
       "      <td>1.000000</td>\n",
       "      <td>1.000000</td>\n",
       "      <td>1.000000</td>\n",
       "      <td>20.000000</td>\n",
       "      <td>0.000000</td>\n",
       "      <td>0.000000</td>\n",
       "      <td>79.500000</td>\n",
       "      <td>2.750000</td>\n",
       "      <td>0.000000</td>\n",
       "      <td>0.000000</td>\n",
       "      <td>0.000000</td>\n",
       "      <td>0.750000</td>\n",
       "      <td>53.500000</td>\n",
       "      <td>0.750000</td>\n",
       "      <td>5.000000</td>\n",
       "      <td>0.000000</td>\n",
       "      <td>7.500000</td>\n",
       "      <td>6.000000</td>\n",
       "    </tr>\n",
       "    <tr>\n",
       "      <th>50%</th>\n",
       "      <td>2.000000</td>\n",
       "      <td>1.000000</td>\n",
       "      <td>1.000000</td>\n",
       "      <td>20.000000</td>\n",
       "      <td>0.000000</td>\n",
       "      <td>1.300000</td>\n",
       "      <td>85.500000</td>\n",
       "      <td>4.000000</td>\n",
       "      <td>2.500000</td>\n",
       "      <td>0.000000</td>\n",
       "      <td>0.000000</td>\n",
       "      <td>13.500000</td>\n",
       "      <td>82.500000</td>\n",
       "      <td>1.000000</td>\n",
       "      <td>10.000000</td>\n",
       "      <td>0.000000</td>\n",
       "      <td>21.500000</td>\n",
       "      <td>19.500000</td>\n",
       "    </tr>\n",
       "    <tr>\n",
       "      <th>75%</th>\n",
       "      <td>4.000000</td>\n",
       "      <td>2.000000</td>\n",
       "      <td>1.750000</td>\n",
       "      <td>30.250000</td>\n",
       "      <td>0.000000</td>\n",
       "      <td>7.200000</td>\n",
       "      <td>96.875000</td>\n",
       "      <td>8.000000</td>\n",
       "      <td>8.000000</td>\n",
       "      <td>10.000000</td>\n",
       "      <td>2.000000</td>\n",
       "      <td>34.500000</td>\n",
       "      <td>139.750000</td>\n",
       "      <td>1.000000</td>\n",
       "      <td>22.000000</td>\n",
       "      <td>1.000000</td>\n",
       "      <td>34.750000</td>\n",
       "      <td>32.000000</td>\n",
       "    </tr>\n",
       "    <tr>\n",
       "      <th>max</th>\n",
       "      <td>16.000000</td>\n",
       "      <td>7.000000</td>\n",
       "      <td>2.000000</td>\n",
       "      <td>50.000000</td>\n",
       "      <td>58.000000</td>\n",
       "      <td>55.000000</td>\n",
       "      <td>100.000000</td>\n",
       "      <td>160.000000</td>\n",
       "      <td>46.000000</td>\n",
       "      <td>150.000000</td>\n",
       "      <td>30.000000</td>\n",
       "      <td>225.000000</td>\n",
       "      <td>849.000000</td>\n",
       "      <td>7.000000</td>\n",
       "      <td>123.000000</td>\n",
       "      <td>7.000000</td>\n",
       "      <td>209.000000</td>\n",
       "      <td>185.000000</td>\n",
       "    </tr>\n",
       "  </tbody>\n",
       "</table>\n",
       "</div>"
      ],
      "text/plain": [
       "       Public Toilets  Community Toilets  She Toilets  ODF Declared Wards  \\\n",
       "count       31.000000          13.000000    10.000000           72.000000   \n",
       "mean         3.419355           1.538462     1.300000           23.291667   \n",
       "std          3.253451           1.853617     0.483046           10.864644   \n",
       "min          0.000000           0.000000     1.000000            0.000000   \n",
       "25%          1.000000           1.000000     1.000000           20.000000   \n",
       "50%          2.000000           1.000000     1.000000           20.000000   \n",
       "75%          4.000000           2.000000     1.750000           30.250000   \n",
       "max         16.000000           7.000000     2.000000           50.000000   \n",
       "\n",
       "       ODF Non Declared Wards  Compost Yard Location & Extent (Acrs)  \\\n",
       "count               72.000000                              72.000000   \n",
       "mean                 3.958333                               5.993194   \n",
       "std                 10.161287                              10.094007   \n",
       "min                  0.000000                               0.000000   \n",
       "25%                  0.000000                               0.000000   \n",
       "50%                  0.000000                               1.300000   \n",
       "75%                  0.000000                               7.200000   \n",
       "max                 58.000000                              55.000000   \n",
       "\n",
       "       % of Door to Door Collection    Tractors      Autos   Tricycles  \\\n",
       "count                     72.000000   72.000000  72.000000   72.000000   \n",
       "mean                      75.988611    8.625000   5.402778    8.694444   \n",
       "std                       32.893282   19.841227   8.568958   21.555457   \n",
       "min                        0.000000    0.000000   0.000000    0.000000   \n",
       "25%                       79.500000    2.750000   0.000000    0.000000   \n",
       "50%                       85.500000    4.000000   2.500000    0.000000   \n",
       "75%                       96.875000    8.000000   8.000000   10.000000   \n",
       "max                      100.000000  160.000000  46.000000  150.000000   \n",
       "\n",
       "       Pushcarts  Regular Workers  Out Sourced Workers  Government Hospitals  \\\n",
       "count  72.000000        72.000000            72.000000             72.000000   \n",
       "mean    3.305556        24.611111           116.500000              1.000000   \n",
       "std     7.062376        36.254016           133.922513              1.007018   \n",
       "min     0.000000         0.000000             0.000000              0.000000   \n",
       "25%     0.000000         0.750000            53.500000              0.750000   \n",
       "50%     0.000000        13.500000            82.500000              1.000000   \n",
       "75%     2.000000        34.500000           139.750000              1.000000   \n",
       "max    30.000000       225.000000           849.000000              7.000000   \n",
       "\n",
       "       Private Hospitals  Urban Health Centres  Garbage generation/day (Mts)  \\\n",
       "count          72.000000             72.000000                     72.000000   \n",
       "mean           17.930556              0.888889                     30.387222   \n",
       "std            25.077528              1.429622                     39.038642   \n",
       "min             0.000000              0.000000                      0.000000   \n",
       "25%             5.000000              0.000000                      7.500000   \n",
       "50%            10.000000              0.000000                     21.500000   \n",
       "75%            22.000000              1.000000                     34.750000   \n",
       "max           123.000000              7.000000                    209.000000   \n",
       "\n",
       "       Garbage lifted/day (Mts)  \n",
       "count                 72.000000  \n",
       "mean                  26.516111  \n",
       "std                   32.056076  \n",
       "min                    0.000000  \n",
       "25%                    6.000000  \n",
       "50%                   19.500000  \n",
       "75%                   32.000000  \n",
       "max                  185.000000  "
      ]
     },
     "execution_count": 8,
     "metadata": {},
     "output_type": "execute_result"
    }
   ],
   "source": [
    "df.describe()"
   ]
  },
  {
   "cell_type": "code",
   "execution_count": 9,
   "metadata": {
    "colab": {
     "base_uri": "https://localhost:8080/"
    },
    "id": "gi6iVPoIHddT",
    "outputId": "5642a13d-bd9c-4621-bdeb-51e483b9ffa8"
   },
   "outputs": [
    {
     "data": {
      "text/plain": [
       "ULB Name                                   72\n",
       "Public Toilets                             10\n",
       "Community Toilets                           5\n",
       "She Toilets                                 2\n",
       "ODF Declared Wards                         23\n",
       "ODF Non Declared Wards                     17\n",
       "Compost Yard Location & Extent (Acrs)      28\n",
       "Dry Resourse Collection Center (Yes/No)     2\n",
       "% of Door to Door Collection               25\n",
       "Tractors                                   23\n",
       "Autos                                      19\n",
       "Tricycles                                  17\n",
       "Pushcarts                                  16\n",
       "Regular Workers                            34\n",
       "Out Sourced Workers                        53\n",
       "Government Hospitals                        5\n",
       "Private Hospitals                          30\n",
       "Urban Health Centres                        7\n",
       "Garbage generation/day (Mts)               40\n",
       "Garbage lifted/day (Mts)                   45\n",
       "dtype: int64"
      ]
     },
     "execution_count": 9,
     "metadata": {},
     "output_type": "execute_result"
    }
   ],
   "source": [
    "df.nunique()"
   ]
  },
  {
   "cell_type": "markdown",
   "metadata": {},
   "source": [
    "### Data Cleaning and Preprocessing"
   ]
  },
  {
   "cell_type": "code",
   "execution_count": 10,
   "metadata": {
    "colab": {
     "base_uri": "https://localhost:8080/"
    },
    "id": "pircmsl--m9n",
    "outputId": "2b29eb27-d2e4-402e-ff74-fd3687e74f71"
   },
   "outputs": [
    {
     "data": {
      "text/plain": [
       "She Toilets                                62\n",
       "Community Toilets                          59\n",
       "Public Toilets                             41\n",
       "Dry Resourse Collection Center (Yes/No)    12\n",
       "Garbage lifted/day (Mts)                    0\n",
       "Garbage generation/day (Mts)                0\n",
       "ODF Declared Wards                          0\n",
       "ODF Non Declared Wards                      0\n",
       "Compost Yard Location & Extent (Acrs)       0\n",
       "% of Door to Door Collection                0\n",
       "Tractors                                    0\n",
       "Autos                                       0\n",
       "Tricycles                                   0\n",
       "Pushcarts                                   0\n",
       "Regular Workers                             0\n",
       "Out Sourced Workers                         0\n",
       "Government Hospitals                        0\n",
       "Private Hospitals                           0\n",
       "Urban Health Centres                        0\n",
       "ULB Name                                    0\n",
       "dtype: int64"
      ]
     },
     "execution_count": 10,
     "metadata": {},
     "output_type": "execute_result"
    }
   ],
   "source": [
    "#cleaning the data\n",
    "df.isnull().sum().sort_values(ascending=False)"
   ]
  },
  {
   "cell_type": "markdown",
   "metadata": {
    "id": "6SK5CcOJKQ2m"
   },
   "source": [
    "Since nearly 90% of the data in the column She Toilets in null.Let's drop the column\n"
   ]
  },
  {
   "cell_type": "code",
   "execution_count": 11,
   "metadata": {
    "id": "MuBBzXRcKd7q"
   },
   "outputs": [],
   "source": [
    "df.drop(['She Toilets','Public Toilets', 'Community Toilets'],inplace=True, axis=1)"
   ]
  },
  {
   "cell_type": "code",
   "execution_count": 12,
   "metadata": {
    "id": "pP1-O46rSqoX"
   },
   "outputs": [],
   "source": [
    "#imputing the missing data\n",
    "df['Dry Resourse Collection Center (Yes/No)']=df['Dry Resourse Collection Center (Yes/No)'].fillna(df['Dry Resourse Collection Center (Yes/No)'].mode()[0])"
   ]
  },
  {
   "cell_type": "code",
   "execution_count": 13,
   "metadata": {
    "colab": {
     "base_uri": "https://localhost:8080/"
    },
    "id": "tTxaXFA_JIC0",
    "outputId": "41d1c03e-e607-40fd-8add-52b92c2588de"
   },
   "outputs": [
    {
     "data": {
      "text/plain": [
       "ULB Name                                   0\n",
       "ODF Declared Wards                         0\n",
       "ODF Non Declared Wards                     0\n",
       "Compost Yard Location & Extent (Acrs)      0\n",
       "Dry Resourse Collection Center (Yes/No)    0\n",
       "% of Door to Door Collection               0\n",
       "Tractors                                   0\n",
       "Autos                                      0\n",
       "Tricycles                                  0\n",
       "Pushcarts                                  0\n",
       "Regular Workers                            0\n",
       "Out Sourced Workers                        0\n",
       "Government Hospitals                       0\n",
       "Private Hospitals                          0\n",
       "Urban Health Centres                       0\n",
       "Garbage generation/day (Mts)               0\n",
       "Garbage lifted/day (Mts)                   0\n",
       "dtype: int64"
      ]
     },
     "execution_count": 13,
     "metadata": {},
     "output_type": "execute_result"
    }
   ],
   "source": [
    "df.isnull().sum()"
   ]
  },
  {
   "cell_type": "code",
   "execution_count": 14,
   "metadata": {
    "id": "mXN-GZi--z03"
   },
   "outputs": [],
   "source": [
    "import plotly.express as px\n",
    "import matplotlib\n",
    "import matplotlib.pyplot as plt\n",
    "import seaborn as sns\n",
    "%matplotlib inline"
   ]
  },
  {
   "cell_type": "code",
   "execution_count": 15,
   "metadata": {
    "colab": {
     "base_uri": "https://localhost:8080/",
     "height": 225
    },
    "id": "xfgJH0pjT6_V",
    "outputId": "f1382db6-62d5-47d5-d12a-cf20c5206202"
   },
   "outputs": [
    {
     "data": {
      "image/png": "[encoded data removed]",
      "text/plain": [
       "<Figure size 864x216 with 3 Axes>"
      ]
     },
     "metadata": {
      "needs_background": "light"
     },
     "output_type": "display_data"
    }
   ],
   "source": [
    "#Let's check for outliers \n",
    "plt.rcParams['figure.figsize']=(12,3)\n",
    "\n",
    "plt.subplot(1,3,1)\n",
    "sns.boxplot(df['% of Door to Door Collection'])\n",
    "\n",
    "plt.subplot(1,3,2)\n",
    "sns.boxplot(df['Garbage generation/day (Mts)'])\n",
    "\n",
    "plt.subplot(1,3,3)\n",
    "sns.boxplot(df['Garbage lifted/day (Mts)'])\n",
    "plt.show()\n"
   ]
  },
  {
   "cell_type": "code",
   "execution_count": 16,
   "metadata": {
    "colab": {
     "base_uri": "https://localhost:8080/",
     "height": 225
    },
    "id": "rz7xPjQ2V2PC",
    "outputId": "ff5cce8a-075a-4b26-87ca-3f567ff3b2b2"
   },
   "outputs": [
    {
     "data": {
      "image/png": "[encoded data removed]",
      "text/plain": [
       "<Figure size 864x216 with 3 Axes>"
      ]
     },
     "metadata": {
      "needs_background": "light"
     },
     "output_type": "display_data"
    }
   ],
   "source": [
    "#Let's remove the outliers\n",
    "df=df[df['% of Door to Door Collection']>=70]\n",
    "df=df[df['Garbage generation/day (Mts)']<=80]\n",
    "df=df[df['Garbage lifted/day (Mts)']<=60]\n",
    "\n",
    "#Checking outliers again\n",
    "plt.rcParams['figure.figsize']=(12,3)\n",
    "\n",
    "plt.subplot(1,3,1)\n",
    "sns.boxplot(df['% of Door to Door Collection'])\n",
    "\n",
    "plt.subplot(1,3,2)\n",
    "sns.boxplot(df['Garbage generation/day (Mts)'])\n",
    "\n",
    "plt.subplot(1,3,3)\n",
    "sns.boxplot(df['Garbage lifted/day (Mts)'])\n",
    "plt.show()\n"
   ]
  },
  {
   "cell_type": "markdown",
   "metadata": {
    "id": "aH1DJE4d-tGl"
   },
   "source": [
    "### Data Exploration and Visualisation"
   ]
  },
  {
   "cell_type": "code",
   "execution_count": 17,
   "metadata": {
    "colab": {
     "base_uri": "https://localhost:8080/",
     "height": 275
    },
    "id": "P6TPjzlcFzpf",
    "outputId": "2cb6cd33-c291-4430-9f0b-e52fde581c5c"
   },
   "outputs": [
    {
     "name": "stdout",
     "output_type": "stream",
     "text": [
      "Number if numerical variables: 15\n"
     ]
    },
    {
     "data": {
      "text/html": [
       "<div>\n",
       "<style scoped>\n",
       "    .dataframe tbody tr th:only-of-type {\n",
       "        vertical-align: middle;\n",
       "    }\n",
       "\n",
       "    .dataframe tbody tr th {\n",
       "        vertical-align: top;\n",
       "    }\n",
       "\n",
       "    .dataframe thead th {\n",
       "        text-align: right;\n",
       "    }\n",
       "</style>\n",
       "<table border=\"1\" class=\"dataframe\">\n",
       "  <thead>\n",
       "    <tr style=\"text-align: right;\">\n",
       "      <th></th>\n",
       "      <th>ODF Declared Wards</th>\n",
       "      <th>ODF Non Declared Wards</th>\n",
       "      <th>Compost Yard Location &amp; Extent (Acrs)</th>\n",
       "      <th>% of Door to Door Collection</th>\n",
       "      <th>Tractors</th>\n",
       "      <th>Autos</th>\n",
       "      <th>Tricycles</th>\n",
       "      <th>Pushcarts</th>\n",
       "      <th>Regular Workers</th>\n",
       "      <th>Out Sourced Workers</th>\n",
       "      <th>Government Hospitals</th>\n",
       "      <th>Private Hospitals</th>\n",
       "      <th>Urban Health Centres</th>\n",
       "      <th>Garbage generation/day (Mts)</th>\n",
       "      <th>Garbage lifted/day (Mts)</th>\n",
       "    </tr>\n",
       "  </thead>\n",
       "  <tbody>\n",
       "    <tr>\n",
       "      <th>1</th>\n",
       "      <td>10</td>\n",
       "      <td>10</td>\n",
       "      <td>3.27</td>\n",
       "      <td>89.0</td>\n",
       "      <td>1</td>\n",
       "      <td>0</td>\n",
       "      <td>12</td>\n",
       "      <td>3</td>\n",
       "      <td>11</td>\n",
       "      <td>37</td>\n",
       "      <td>1</td>\n",
       "      <td>5</td>\n",
       "      <td>0</td>\n",
       "      <td>4.7</td>\n",
       "      <td>3.9</td>\n",
       "    </tr>\n",
       "    <tr>\n",
       "      <th>2</th>\n",
       "      <td>23</td>\n",
       "      <td>0</td>\n",
       "      <td>11.09</td>\n",
       "      <td>100.0</td>\n",
       "      <td>5</td>\n",
       "      <td>10</td>\n",
       "      <td>0</td>\n",
       "      <td>0</td>\n",
       "      <td>17</td>\n",
       "      <td>67</td>\n",
       "      <td>1</td>\n",
       "      <td>25</td>\n",
       "      <td>0</td>\n",
       "      <td>32.0</td>\n",
       "      <td>30.0</td>\n",
       "    </tr>\n",
       "    <tr>\n",
       "      <th>3</th>\n",
       "      <td>20</td>\n",
       "      <td>0</td>\n",
       "      <td>0.00</td>\n",
       "      <td>85.0</td>\n",
       "      <td>9</td>\n",
       "      <td>0</td>\n",
       "      <td>5</td>\n",
       "      <td>0</td>\n",
       "      <td>2</td>\n",
       "      <td>74</td>\n",
       "      <td>2</td>\n",
       "      <td>8</td>\n",
       "      <td>0</td>\n",
       "      <td>14.0</td>\n",
       "      <td>14.0</td>\n",
       "    </tr>\n",
       "    <tr>\n",
       "      <th>4</th>\n",
       "      <td>20</td>\n",
       "      <td>0</td>\n",
       "      <td>0.00</td>\n",
       "      <td>100.0</td>\n",
       "      <td>4</td>\n",
       "      <td>30</td>\n",
       "      <td>15</td>\n",
       "      <td>0</td>\n",
       "      <td>0</td>\n",
       "      <td>168</td>\n",
       "      <td>1</td>\n",
       "      <td>3</td>\n",
       "      <td>0</td>\n",
       "      <td>28.0</td>\n",
       "      <td>28.0</td>\n",
       "    </tr>\n",
       "    <tr>\n",
       "      <th>5</th>\n",
       "      <td>20</td>\n",
       "      <td>0</td>\n",
       "      <td>0.00</td>\n",
       "      <td>96.5</td>\n",
       "      <td>0</td>\n",
       "      <td>0</td>\n",
       "      <td>0</td>\n",
       "      <td>0</td>\n",
       "      <td>23</td>\n",
       "      <td>120</td>\n",
       "      <td>1</td>\n",
       "      <td>5</td>\n",
       "      <td>0</td>\n",
       "      <td>14.0</td>\n",
       "      <td>13.0</td>\n",
       "    </tr>\n",
       "  </tbody>\n",
       "</table>\n",
       "</div>"
      ],
      "text/plain": [
       "   ODF Declared Wards  ODF Non Declared Wards  \\\n",
       "1                  10                      10   \n",
       "2                  23                       0   \n",
       "3                  20                       0   \n",
       "4                  20                       0   \n",
       "5                  20                       0   \n",
       "\n",
       "   Compost Yard Location & Extent (Acrs)  % of Door to Door Collection  \\\n",
       "1                                   3.27                          89.0   \n",
       "2                                  11.09                         100.0   \n",
       "3                                   0.00                          85.0   \n",
       "4                                   0.00                         100.0   \n",
       "5                                   0.00                          96.5   \n",
       "\n",
       "   Tractors  Autos  Tricycles  Pushcarts  Regular Workers  \\\n",
       "1         1      0         12          3               11   \n",
       "2         5     10          0          0               17   \n",
       "3         9      0          5          0                2   \n",
       "4         4     30         15          0                0   \n",
       "5         0      0          0          0               23   \n",
       "\n",
       "   Out Sourced Workers  Government Hospitals  Private Hospitals  \\\n",
       "1                   37                     1                  5   \n",
       "2                   67                     1                 25   \n",
       "3                   74                     2                  8   \n",
       "4                  168                     1                  3   \n",
       "5                  120                     1                  5   \n",
       "\n",
       "   Urban Health Centres  Garbage generation/day (Mts)  \\\n",
       "1                     0                           4.7   \n",
       "2                     0                          32.0   \n",
       "3                     0                          14.0   \n",
       "4                     0                          28.0   \n",
       "5                     0                          14.0   \n",
       "\n",
       "   Garbage lifted/day (Mts)  \n",
       "1                       3.9  \n",
       "2                      30.0  \n",
       "3                      14.0  \n",
       "4                      28.0  \n",
       "5                      13.0  "
      ]
     },
     "execution_count": 17,
     "metadata": {},
     "output_type": "execute_result"
    }
   ],
   "source": [
    "#list of numerical variables\n",
    "numerical_features=[feature for feature in df.columns if df[feature].dtypes!='O']\n",
    "print('Number if numerical variables:',len(numerical_features))\n",
    "\n",
    "#visualise the numerical variables\n",
    "df[numerical_features].head()"
   ]
  },
  {
   "cell_type": "code",
   "execution_count": 18,
   "metadata": {
    "colab": {
     "base_uri": "https://localhost:8080/"
    },
    "id": "ssbNgHprlM07",
    "outputId": "3e8ffd78-233e-4cc2-c911-633ed6049b39"
   },
   "outputs": [
    {
     "data": {
      "text/plain": [
       "Index(['ULB Name', 'ODF Declared Wards', 'ODF Non Declared Wards',\n",
       "       'Compost Yard Location & Extent (Acrs)',\n",
       "       'Dry Resourse Collection Center (Yes/No)',\n",
       "       '% of Door to Door Collection', 'Tractors', 'Autos', 'Tricycles',\n",
       "       'Pushcarts', 'Regular Workers', 'Out Sourced Workers',\n",
       "       'Government Hospitals', 'Private Hospitals', 'Urban Health Centres',\n",
       "       'Garbage generation/day (Mts)', 'Garbage lifted/day (Mts)'],\n",
       "      dtype='object')"
      ]
     },
     "execution_count": 18,
     "metadata": {},
     "output_type": "execute_result"
    }
   ],
   "source": [
    "df.columns"
   ]
  },
  {
   "cell_type": "code",
   "execution_count": 19,
   "metadata": {
    "colab": {
     "base_uri": "https://localhost:8080/"
    },
    "id": "tbNIsc9Sm2U4",
    "outputId": "0a89e033-de4a-4b47-d408-83587414fea2"
   },
   "outputs": [
    {
     "data": {
      "text/plain": [
       "YES    28\n",
       "NO     22\n",
       "Name: Dry Resourse Collection Center (Yes/No), dtype: int64"
      ]
     },
     "execution_count": 19,
     "metadata": {},
     "output_type": "execute_result"
    }
   ],
   "source": [
    "df['Dry Resourse Collection Center (Yes/No)'].value_counts()"
   ]
  },
  {
   "cell_type": "code",
   "execution_count": 20,
   "metadata": {
    "id": "zsRSizIEoN4s"
   },
   "outputs": [],
   "source": [
    "compost_yard=df['Compost Yard Location & Extent (Acrs)'].value_counts() "
   ]
  },
  {
   "cell_type": "code",
   "execution_count": 21,
   "metadata": {
    "colab": {
     "base_uri": "https://localhost:8080/"
    },
    "id": "vLn-DNT_qbwl",
    "outputId": "8a47feac-80cb-4062-a86f-1f38bdf741b9"
   },
   "outputs": [
    {
     "data": {
      "text/plain": [
       "0.00     24\n",
       "5.00      8\n",
       "10.00     3\n",
       "7.02      1\n",
       "22.00     1\n",
       "7.00      1\n",
       "7.50      1\n",
       "11.00     1\n",
       "16.25     1\n",
       "5.80      1\n",
       "3.27      1\n",
       "5.03      1\n",
       "7.10      1\n",
       "0.10      1\n",
       "8.39      1\n",
       "13.22     1\n",
       "11.09     1\n",
       "10.01     1\n",
       "Name: Compost Yard Location & Extent (Acrs), dtype: int64"
      ]
     },
     "execution_count": 21,
     "metadata": {},
     "output_type": "execute_result"
    }
   ],
   "source": [
    "compost_yard"
   ]
  },
  {
   "cell_type": "markdown",
   "metadata": {
    "id": "NBwL-IU3ruTQ"
   },
   "source": [
    "Out of the 71 ULB, 24 of them does not have compost yard ie 33% of them.And about 45% of the ULB has  compost yard which extents more than or equal to 10 acres.\n"
   ]
  },
  {
   "cell_type": "code",
   "execution_count": 26,
   "metadata": {
    "colab": {
     "base_uri": "https://localhost:8080/"
    },
    "id": "_wyyRl5ase8I",
    "outputId": "a179159b-26a5-4eda-9592-1768df3c16cc"
   },
   "outputs": [],
   "source": [
    "c=df['% of Door to Door Collection']"
   ]
  },
  {
   "cell_type": "code",
   "execution_count": 27,
   "metadata": {
    "colab": {
     "base_uri": "https://localhost:8080/",
     "height": 386
    },
    "id": "cl7atPBmr1Od",
    "outputId": "efd99e56-c2e0-40e1-97ed-0c8c719e2ca4"
   },
   "outputs": [
    {
     "data": {
      "text/plain": [
       "<seaborn.axisgrid.FacetGrid at 0x1ddf8e8dc88>"
      ]
     },
     "execution_count": 27,
     "metadata": {},
     "output_type": "execute_result"
    },
    {
     "data": {
      "image/png": "[encoded data removed]",
      "text/plain": [
       "<Figure size 360x360 with 1 Axes>"
      ]
     },
     "metadata": {
      "needs_background": "light"
     },
     "output_type": "display_data"
    }
   ],
   "source": [
    "sns.displot(c)"
   ]
  },
  {
   "cell_type": "markdown",
   "metadata": {
    "id": "FZlC_eIntoyl"
   },
   "source": [
    "Most ULBs has a decent percentage if Door to Door Collection"
   ]
  },
  {
   "cell_type": "code",
   "execution_count": null,
   "metadata": {
    "colab": {
     "base_uri": "https://localhost:8080/",
     "height": 385
    },
    "id": "adBbys3gtpsY",
    "outputId": "2206c172-02c3-4277-e52d-2f58307880d4"
   },
   "outputs": [],
   "source": [
    "sns.relplot(x='Garbage generation/day (Mts)',y='Garbage lifted/day (Mts)',hue='Dry Resourse Collection Center (Yes/No)',data=df)\n",
    "plt.title('Garbage generation/day (Mts) VsGarbage lifted/day (Mts)');"
   ]
  },
  {
   "cell_type": "markdown",
   "metadata": {
    "id": "vMPhya7WvMBk"
   },
   "source": [
    "There is a linear relation between the garbage generated and lifted per day (in Mts)"
   ]
  },
  {
   "cell_type": "code",
   "execution_count": 28,
   "metadata": {
    "colab": {
     "base_uri": "https://localhost:8080/",
     "height": 241
    },
    "id": "QyAzIGvjvZLK",
    "outputId": "56ecc4ed-bd6b-4783-8ae4-81f6e480d30c"
   },
   "outputs": [
    {
     "data": {
      "image/png": "[encoded data removed]",
      "text/plain": [
       "<Figure size 864x216 with 1 Axes>"
      ]
     },
     "metadata": {
      "needs_background": "light"
     },
     "output_type": "display_data"
    }
   ],
   "source": [
    "plt.title('ODF Declared Wards Vs ODF Non Declared Wards')\n",
    "sns.regplot(x='ODF Declared Wards',y='ODF Non Declared Wards',data=df,scatter_kws={'s':80},order=2, ci=None);\n",
    "\n"
   ]
  },
  {
   "cell_type": "markdown",
   "metadata": {
    "id": "2c1CjKMyxXTx"
   },
   "source": [
    "### Inferences"
   ]
  },
  {
   "cell_type": "markdown",
   "metadata": {},
   "source": [
    "1) Need for more compost yards in ULBs\n",
    "\n"
   ]
  },
  {
   "cell_type": "markdown",
   "metadata": {},
   "source": [
    "2) Most of the ULBs has a decent amount of door to door collection in percentage"
   ]
  },
  {
   "cell_type": "markdown",
   "metadata": {},
   "source": [
    "3) The garbage collection and generation has a linear relation"
   ]
  },
  {
   "cell_type": "code",
   "execution_count": null,
   "metadata": {},
   "outputs": [],
   "source": []
  }
 ],
 "metadata": {
  "colab": {
   "name": "Untitled1.ipynb",
   "provenance": []
  },
  "kernelspec": {
   "display_name": "Python 3",
   "language": "python",
   "name": "python3"
  },
  "language_info": {
   "codemirror_mode": {
    "name": "ipython",
    "version": 3
   },
   "file_extension": ".py",
   "mimetype": "text/x-python",
   "name": "python",
   "nbconvert_exporter": "python",
   "pygments_lexer": "ipython3",
   "version": "3.6.1"
  }
 },
 "nbformat": 4,
 "nbformat_minor": 1
}
